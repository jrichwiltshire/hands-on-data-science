{
  "nbformat": 4,
  "nbformat_minor": 0,
  "metadata": {
    "colab": {
      "name": "ch4.ipynb",
      "provenance": [],
      "authorship_tag": "ABX9TyO9OyGJ9V18vgpcrxDZ1eY6",
      "include_colab_link": true
    },
    "kernelspec": {
      "name": "python3",
      "display_name": "Python 3"
    },
    "language_info": {
      "name": "python"
    }
  },
  "cells": [
    {
      "cell_type": "markdown",
      "metadata": {
        "id": "view-in-github",
        "colab_type": "text"
      },
      "source": [
        "<a href=\"https://colab.research.google.com/github/jrichwiltshire/hands-on-data-science/blob/main/ch4.ipynb\" target=\"_parent\"><img src=\"https://colab.research.google.com/assets/colab-badge.svg\" alt=\"Open In Colab\"/></a>"
      ]
    },
    {
      "cell_type": "markdown",
      "source": [
        "# Notebook Setup"
      ],
      "metadata": {
        "id": "evpFpxTdCcLF"
      }
    },
    {
      "cell_type": "code",
      "source": [
        "# Python >=3.5 is required\n",
        "import sys\n",
        "assert sys.version_info >= (3, 5)"
      ],
      "metadata": {
        "id": "KSCr_fWPAW49"
      },
      "execution_count": 1,
      "outputs": []
    },
    {
      "cell_type": "code",
      "source": [
        "# Scikit-Learn >=0.20 is required\n",
        "import sklearn\n",
        "assert sklearn.__version__ >= '0.20'"
      ],
      "metadata": {
        "id": "ES8iHz-RAgSY"
      },
      "execution_count": 2,
      "outputs": []
    },
    {
      "cell_type": "code",
      "source": [
        "#Common imports\n",
        "import numpy as np\n",
        "import os\n",
        "from datetime import datetime"
      ],
      "metadata": {
        "id": "2HJNllAeArAo"
      },
      "execution_count": 3,
      "outputs": []
    },
    {
      "cell_type": "code",
      "source": [
        "# to make this notebook's output stable across runs\n",
        "np.random.seed(42)"
      ],
      "metadata": {
        "id": "CzW09u0IAv09"
      },
      "execution_count": 4,
      "outputs": []
    },
    {
      "cell_type": "code",
      "source": [
        "# To plot pretty figures\n",
        "%matplotlib inline\n",
        "import matplotlib as mpl\n",
        "import matplotlib.pyplot as plt\n",
        "mpl.rc('axes', labelsize=14)\n",
        "mpl.rc('xtick', labelsize=12)\n",
        "mpl.rc('ytick', labelsize=12)"
      ],
      "metadata": {
        "id": "9q21hFefA0Yc"
      },
      "execution_count": 5,
      "outputs": []
    },
    {
      "cell_type": "markdown",
      "source": [
        "#Github Setup"
      ],
      "metadata": {
        "id": "ijBLgwZnNF6T"
      }
    },
    {
      "cell_type": "code",
      "source": [
        "!ssh-keygen -t rsa -b 4096"
      ],
      "metadata": {
        "colab": {
          "base_uri": "https://localhost:8080/"
        },
        "id": "ZVAbMJApkpCR",
        "outputId": "755d279a-695b-4e40-8aa1-6df0061356d9"
      },
      "execution_count": 6,
      "outputs": [
        {
          "output_type": "stream",
          "name": "stdout",
          "text": [
            "Generating public/private rsa key pair.\n",
            "Enter file in which to save the key (/root/.ssh/id_rsa): \n",
            "Created directory '/root/.ssh'.\n",
            "Enter passphrase (empty for no passphrase): \n",
            "Enter same passphrase again: \n",
            "Your identification has been saved in /root/.ssh/id_rsa.\n",
            "Your public key has been saved in /root/.ssh/id_rsa.pub.\n",
            "The key fingerprint is:\n",
            "SHA256:uCX0X8vsz2FoEBhbuQunzlJSM91LeGHx7J5vqYX2jWs root@e9d732d5588a\n",
            "The key's randomart image is:\n",
            "+---[RSA 4096]----+\n",
            "|        . ....   |\n",
            "|         =. oo   |\n",
            "|      . o..= .o  |\n",
            "|     . o= =.+.   |\n",
            "|      o.S*.+...  |\n",
            "|      .+o..=.+.. |\n",
            "|      .=  . *o=..|\n",
            "|      . o  o.oE=o|\n",
            "|       .    .+*+o|\n",
            "+----[SHA256]-----+\n"
          ]
        }
      ]
    },
    {
      "cell_type": "code",
      "source": [
        "!ssh-keyscan -t rsa github.com >> ~/.ssh/known_hosts"
      ],
      "metadata": {
        "colab": {
          "base_uri": "https://localhost:8080/"
        },
        "id": "Mx6L1WUuk0yc",
        "outputId": "c58ab664-3c07-4466-9c49-4b7060c18ab1"
      },
      "execution_count": 7,
      "outputs": [
        {
          "output_type": "stream",
          "name": "stdout",
          "text": [
            "# github.com:22 SSH-2.0-babeld-17a926d7\n"
          ]
        }
      ]
    },
    {
      "cell_type": "code",
      "source": [
        "!cat /root/.ssh/id_rsa.pub"
      ],
      "metadata": {
        "colab": {
          "base_uri": "https://localhost:8080/"
        },
        "id": "DF-vS1Q6k-7R",
        "outputId": "ec65bd4d-255a-45d0-989f-3b5c2872f91a"
      },
      "execution_count": 8,
      "outputs": [
        {
          "output_type": "stream",
          "name": "stdout",
          "text": [
            "ssh-rsa AAAAB3NzaC1yc2EAAAADAQABAAACAQC1JeVaNULIL+FZV1NzY5LWqI0ShbByOVLYaASYxFy7aeXaLfF+glqaGAm3pjF5j7F1TKx4Xm3AikZhh+jrrpvkD9qLbs61FnjCExUtIl0uwk2oKGLR5P9EJ9hhbAfMLKxBMejDB7Li0fGcRV76Rx5yoHTmGBZ0bJRmY9v6jumXcMbvzurDbuM/DBlSHMy2SHXRqqfy13b/wV6+mYy9rEaAJfxL1+GVFin5SF91X0yNSxc3Vi2mXwrObHyNMgL4cenfAWGfei38Hevg0L/Nze8u/zvU41/LYqEWd5u8xYHxVwE4VDx+V4Mp2AhfMOJE8P32J89SvYiwR1OWEgGmykrUNO0J2brCC+TQnV5/eN8U05CcgJr5ZLLh0KyYLhwRwpfmxxfE9lSHonkouoX+hFXXIpDX6hE/1TBHOH03JGmRrOEisLE6ApSu7FL5mSGJsqKxZimA20YoAkd9zpGgeJ53/ersMJ6pkaeaUnVp5BKEF4cHiYCtrMHMwsAvHJsLtIbK/GxyKAJ+1ZFqGhMj272F/KCFGfomc+ipCz+FRmCWxhP+oGQmcqbD3m2eSSiTuq3xo5xoK+tNKCRF/1TI9/bvE7pDSzW1faRorV01VNLHjTnzUrML2Jze1ea2JXCo6JfJUWEtdliIw0pTB8uLGAqfW64mEU4bBBXFrag3STHwZw== root@e9d732d5588a\n"
          ]
        }
      ]
    },
    {
      "cell_type": "code",
      "source": [
        "!ssh -T git@github.com"
      ],
      "metadata": {
        "colab": {
          "base_uri": "https://localhost:8080/"
        },
        "id": "qasvDa0plRVc",
        "outputId": "32d5dd56-d7d9-410d-c05a-e48cb2cfeabb"
      },
      "execution_count": 9,
      "outputs": [
        {
          "output_type": "stream",
          "name": "stdout",
          "text": [
            "Warning: Permanently added the RSA host key for IP address '140.82.121.4' to the list of known hosts.\r\n",
            "Hi jrichwiltshire! You've successfully authenticated, but GitHub does not provide shell access.\n"
          ]
        }
      ]
    },
    {
      "cell_type": "code",
      "source": [
        "!git clone git@github.com:jrichwiltshire/hands-on-data-science.git"
      ],
      "metadata": {
        "colab": {
          "base_uri": "https://localhost:8080/"
        },
        "id": "u4wSMqPMlk0x",
        "outputId": "76b2bdd2-8e16-41fb-e9ec-1b67f3218f60"
      },
      "execution_count": 10,
      "outputs": [
        {
          "output_type": "stream",
          "name": "stdout",
          "text": [
            "Cloning into 'hands-on-data-science'...\n",
            "remote: Enumerating objects: 88, done.\u001b[K\n",
            "remote: Counting objects: 100% (40/40), done.\u001b[K\n",
            "remote: Compressing objects: 100% (34/34), done.\u001b[K\n",
            "remote: Total 88 (delta 11), reused 25 (delta 3), pack-reused 48\u001b[K\n",
            "Receiving objects: 100% (88/88), 2.03 MiB | 4.94 MiB/s, done.\n",
            "Resolving deltas: 100% (23/23), done.\n"
          ]
        }
      ]
    },
    {
      "cell_type": "code",
      "source": [
        "%cd /content/hands-on-data-science/"
      ],
      "metadata": {
        "colab": {
          "base_uri": "https://localhost:8080/"
        },
        "id": "oe5T7b4TnQRv",
        "outputId": "234acef0-7805-44cb-8751-0eee0280f0ca"
      },
      "execution_count": 11,
      "outputs": [
        {
          "output_type": "stream",
          "name": "stdout",
          "text": [
            "/content/hands-on-data-science\n"
          ]
        }
      ]
    },
    {
      "cell_type": "code",
      "source": [
        "!git pull"
      ],
      "metadata": {
        "colab": {
          "base_uri": "https://localhost:8080/"
        },
        "id": "iVlJEXednYlo",
        "outputId": "8221c2d2-9e0a-44a9-c1e8-b3bb35a81869"
      },
      "execution_count": 12,
      "outputs": [
        {
          "output_type": "stream",
          "name": "stdout",
          "text": [
            "Already up to date.\n"
          ]
        }
      ]
    },
    {
      "cell_type": "code",
      "source": [
        "!git config --global user.email jrichwiltshire@gmail.com\n",
        "!git config --global user.name jrichwiltshire"
      ],
      "metadata": {
        "id": "dlEgDaqollC2"
      },
      "execution_count": 13,
      "outputs": []
    },
    {
      "cell_type": "code",
      "source": [
        "!git remote -v"
      ],
      "metadata": {
        "colab": {
          "base_uri": "https://localhost:8080/"
        },
        "id": "f4O2T9LjntEU",
        "outputId": "f6ae4f7b-f5ab-40fa-c556-b53e0495d294"
      },
      "execution_count": 14,
      "outputs": [
        {
          "output_type": "stream",
          "name": "stdout",
          "text": [
            "origin\tgit@github.com:jrichwiltshire/hands-on-data-science.git (fetch)\n",
            "origin\tgit@github.com:jrichwiltshire/hands-on-data-science.git (push)\n"
          ]
        }
      ]
    },
    {
      "cell_type": "code",
      "source": [
        "#Where to save the figures\n",
        "PROJECT_ROOT_DIR = os.getcwd()\n",
        "CHAPTER_ID = 'training_linear_models'\n",
        "IMAGES_PATH = os.path.join(PROJECT_ROOT_DIR, 'images', CHAPTER_ID)\n",
        "IMAGES_PATH"
      ],
      "metadata": {
        "id": "rrrnkY49hLrT",
        "outputId": "08bcdc76-9e07-4595-96f8-c1cb9728a34b",
        "colab": {
          "base_uri": "https://localhost:8080/",
          "height": 35
        }
      },
      "execution_count": 15,
      "outputs": [
        {
          "output_type": "execute_result",
          "data": {
            "application/vnd.google.colaboratory.intrinsic+json": {
              "type": "string"
            },
            "text/plain": [
              "'/content/hands-on-data-science/images/training_linear_models'"
            ]
          },
          "metadata": {},
          "execution_count": 15
        }
      ]
    },
    {
      "cell_type": "code",
      "source": [
        "os.makedirs(IMAGES_PATH, exist_ok=True)"
      ],
      "metadata": {
        "id": "LM-Xh5r5VjXV"
      },
      "execution_count": 16,
      "outputs": []
    },
    {
      "cell_type": "code",
      "source": [
        "def save_fig(fig_id, tight_layout=True, fig_extension='png', resolution=300):\n",
        "  path = os.path.join(IMAGES_PATH, fig_id + '.' + fig_extension)\n",
        "  print('Saving figure', fig_id)\n",
        "  if tight_layout:\n",
        "    plt.tight_layout()\n",
        "  plt.savefig(path, format=fig_extension, dpi=resolution)"
      ],
      "metadata": {
        "id": "sclv-pO_lEqX"
      },
      "execution_count": 17,
      "outputs": []
    },
    {
      "cell_type": "markdown",
      "source": [
        "#Linear Regression\n",
        "\n",
        "##The Normal Equation"
      ],
      "metadata": {
        "id": "J22GrWESg_2K"
      }
    },
    {
      "cell_type": "code",
      "source": [
        "import numpy as np\n",
        "\n",
        "X = 2 * np.random.rand(100, 1)\n",
        "y = 4 + 3 * X + np.random.randn(100, 1)"
      ],
      "metadata": {
        "id": "DfdNqm3ig-ZJ"
      },
      "execution_count": 18,
      "outputs": []
    },
    {
      "cell_type": "code",
      "source": [
        "plt.plot(X, y, 'b.')\n",
        "plt.xlabel('$x_1$', fontsize=18)\n",
        "plt.ylabel('$y$', rotation=0, fontsize=18)\n",
        "plt.axis([0, 2, 0, 15])\n",
        "save_fig('generated_data_plot')"
      ],
      "metadata": {
        "id": "gdT8OJCTl3X7",
        "outputId": "b8ba696d-a254-4f9c-fe9c-42fadd96dd89",
        "colab": {
          "base_uri": "https://localhost:8080/",
          "height": 314
        }
      },
      "execution_count": 19,
      "outputs": [
        {
          "output_type": "stream",
          "name": "stdout",
          "text": [
            "Saving figure generated_data_plot\n"
          ]
        },
        {
          "output_type": "display_data",
          "data": {
            "image/png": "[encoded data removed]",
            "text/plain": [
              "<Figure size 432x288 with 1 Axes>"
            ]
          },
          "metadata": {
            "needs_background": "light"
          }
        }
      ]
    },
    {
      "cell_type": "code",
      "source": [
        "X_b = np.c_[np.ones((100, 1)), X] # add x0 = 1 to each instance\n",
        "theta_best = np.linalg.inv(X_b.T.dot(X_b)).dot(X_b.T).dot(y)"
      ],
      "metadata": {
        "id": "Jl-81ZtV-YWX"
      },
      "execution_count": 20,
      "outputs": []
    },
    {
      "cell_type": "code",
      "source": [
        "theta_best"
      ],
      "metadata": {
        "id": "_Jpt2Ywa-YUR",
        "outputId": "c02b032e-3bc5-41ac-a761-b3e97c90699b",
        "colab": {
          "base_uri": "https://localhost:8080/"
        }
      },
      "execution_count": 21,
      "outputs": [
        {
          "output_type": "execute_result",
          "data": {
            "text/plain": [
              "array([[4.21509616],\n",
              "       [2.77011339]])"
            ]
          },
          "metadata": {},
          "execution_count": 21
        }
      ]
    },
    {
      "cell_type": "code",
      "source": [
        "X_new = np.array([[0],[2]])\n",
        "X_new_b = np.c_[np.ones((2, 1)), X_new] # add x0 = 1 to each instance\n",
        "y_predict = X_new_b.dot(theta_best)\n",
        "y_predict"
      ],
      "metadata": {
        "id": "6QQ4pTY9-YSM",
        "outputId": "48a66e25-968e-415f-e8c0-050e49a06791",
        "colab": {
          "base_uri": "https://localhost:8080/"
        }
      },
      "execution_count": 22,
      "outputs": [
        {
          "output_type": "execute_result",
          "data": {
            "text/plain": [
              "array([[4.21509616],\n",
              "       [9.75532293]])"
            ]
          },
          "metadata": {},
          "execution_count": 22
        }
      ]
    },
    {
      "cell_type": "code",
      "source": [
        "plt.plot(X_new, y_predict, 'r-')\n",
        "plt.plot(X, y, 'b.')\n",
        "plt.axis([0, 2, 0, 15])"
      ],
      "metadata": {
        "id": "nuM3-lbE-YPn",
        "outputId": "44f8756f-873f-433b-b765-e09aae4a8615",
        "colab": {
          "base_uri": "https://localhost:8080/",
          "height": 285
        }
      },
      "execution_count": 23,
      "outputs": [
        {
          "output_type": "execute_result",
          "data": {
            "text/plain": [
              "(0.0, 2.0, 0.0, 15.0)"
            ]
          },
          "metadata": {},
          "execution_count": 23
        },
        {
          "output_type": "display_data",
          "data": {
            "image/png": "[encoded data removed]",
            "text/plain": [
              "<Figure size 432x288 with 1 Axes>"
            ]
          },
          "metadata": {
            "needs_background": "light"
          }
        }
      ]
    },
    {
      "cell_type": "code",
      "source": [
        "plt.plot(X_new, y_predict, 'r-', linewidth=2, label='Predictions')\n",
        "plt.plot(X, y, 'b.')\n",
        "plt.xlabel('$x_1$', fontsize=18)\n",
        "plt.ylabel('$y$', rotation=0, fontsize=18)\n",
        "plt.legend(loc='upper left', fontsize=14)\n",
        "plt.axis([0, 2, 0, 15])\n",
        "save_fig('linear_model_predictions_plot')"
      ],
      "metadata": {
        "id": "C4RIl-xi-YNQ",
        "outputId": "9dafa030-2d99-4f82-f9de-c19c2f6546e2",
        "colab": {
          "base_uri": "https://localhost:8080/",
          "height": 314
        }
      },
      "execution_count": 24,
      "outputs": [
        {
          "output_type": "stream",
          "name": "stdout",
          "text": [
            "Saving figure linear_model_predictions_plot\n"
          ]
        },
        {
          "output_type": "display_data",
          "data": {
            "image/png": "[encoded data removed]",
            "text/plain": [
              "<Figure size 432x288 with 1 Axes>"
            ]
          },
          "metadata": {
            "needs_background": "light"
          }
        }
      ]
    },
    {
      "cell_type": "code",
      "source": [
        "from sklearn.linear_model import LinearRegression\n",
        "\n",
        "lin_reg = LinearRegression()\n",
        "lin_reg.fit(X, y)\n",
        "lin_reg.intercept_, lin_reg.coef_"
      ],
      "metadata": {
        "id": "YIkDyEnu-YK4",
        "outputId": "e7b9ecf9-be94-4a78-95ef-967c5df8b4bd",
        "colab": {
          "base_uri": "https://localhost:8080/"
        }
      },
      "execution_count": 25,
      "outputs": [
        {
          "output_type": "execute_result",
          "data": {
            "text/plain": [
              "(array([4.21509616]), array([[2.77011339]]))"
            ]
          },
          "metadata": {},
          "execution_count": 25
        }
      ]
    },
    {
      "cell_type": "markdown",
      "source": [
        ""
      ],
      "metadata": {
        "id": "N_MF8xLV8EE_"
      }
    },
    {
      "cell_type": "code",
      "source": [
        "lin_reg.predict(X_new)"
      ],
      "metadata": {
        "id": "W24Qi7HT-YIS",
        "outputId": "733c3914-1ccf-424e-d978-4045e3d87d37",
        "colab": {
          "base_uri": "https://localhost:8080/"
        }
      },
      "execution_count": 26,
      "outputs": [
        {
          "output_type": "execute_result",
          "data": {
            "text/plain": [
              "array([[4.21509616],\n",
              "       [9.75532293]])"
            ]
          },
          "metadata": {},
          "execution_count": 26
        }
      ]
    },
    {
      "cell_type": "code",
      "source": [
        "theta_best_svd, residuals, rank, s = np.linalg.lstsq(X_b, y, rcond=1e-6)\n",
        "theta_best_svd"
      ],
      "metadata": {
        "id": "K6OUaWOO-YFq",
        "outputId": "84a2ff33-9583-4c99-873e-aa6727c5b3d4",
        "colab": {
          "base_uri": "https://localhost:8080/"
        }
      },
      "execution_count": 27,
      "outputs": [
        {
          "output_type": "execute_result",
          "data": {
            "text/plain": [
              "array([[4.21509616],\n",
              "       [2.77011339]])"
            ]
          },
          "metadata": {},
          "execution_count": 27
        }
      ]
    },
    {
      "cell_type": "code",
      "source": [
        "np.linalg.pinv(X_b).dot(y)"
      ],
      "metadata": {
        "id": "xCr9kxzh-YDm",
        "outputId": "d6b2dcf4-868d-45c9-b174-2daa16e56358",
        "colab": {
          "base_uri": "https://localhost:8080/"
        }
      },
      "execution_count": 28,
      "outputs": [
        {
          "output_type": "execute_result",
          "data": {
            "text/plain": [
              "array([[4.21509616],\n",
              "       [2.77011339]])"
            ]
          },
          "metadata": {},
          "execution_count": 28
        }
      ]
    },
    {
      "cell_type": "markdown",
      "source": [
        "#Gradient Descent"
      ],
      "metadata": {
        "id": "Fna6tkSOrhlE"
      }
    },
    {
      "cell_type": "markdown",
      "source": [
        "##Batch Gradient Descent"
      ],
      "metadata": {
        "id": "r0bUGTMpgAyK"
      }
    },
    {
      "cell_type": "code",
      "source": [
        "eta = 0.1 # learning rate\n",
        "n_iterations = 1000\n",
        "m = 100\n",
        "\n",
        "theta = np.random.randn(2,1) # random initialization\n",
        "\n",
        "for iteration in range(n_iterations):\n",
        "  gradients = 2/m * X_b.T.dot(X_b.dot(theta) - y)\n",
        "  theta = theta - eta * gradients"
      ],
      "metadata": {
        "id": "XvJo4w1y-YA-"
      },
      "execution_count": 29,
      "outputs": []
    },
    {
      "cell_type": "code",
      "source": [
        "theta"
      ],
      "metadata": {
        "id": "lmtkAIr2-X-Z",
        "outputId": "33cc6f7d-194f-431b-e299-672bfe1c6dde",
        "colab": {
          "base_uri": "https://localhost:8080/"
        }
      },
      "execution_count": 30,
      "outputs": [
        {
          "output_type": "execute_result",
          "data": {
            "text/plain": [
              "array([[4.21509616],\n",
              "       [2.77011339]])"
            ]
          },
          "metadata": {},
          "execution_count": 30
        }
      ]
    },
    {
      "cell_type": "code",
      "source": [
        "X_new_b.dot(theta)"
      ],
      "metadata": {
        "id": "PQ5Fux-3-X8A",
        "outputId": "374dc3a3-7ecd-4567-c51b-6b7a187d7d75",
        "colab": {
          "base_uri": "https://localhost:8080/"
        }
      },
      "execution_count": 31,
      "outputs": [
        {
          "output_type": "execute_result",
          "data": {
            "text/plain": [
              "array([[4.21509616],\n",
              "       [9.75532293]])"
            ]
          },
          "metadata": {},
          "execution_count": 31
        }
      ]
    },
    {
      "cell_type": "code",
      "source": [
        "theta_path_bgd = []\n",
        "\n",
        "def plot_gradient_descent(theta, eta, theta_path=None):\n",
        "  m = len(X_b)\n",
        "  plt.plot(X, y, 'b.')\n",
        "  n_iterations = 1000\n",
        "  for iteration in range(n_iterations):\n",
        "    if iteration < 10:\n",
        "      y_predict = X_new_b.dot(theta)\n",
        "      style = 'b-' if iteration > 0 else 'r--'\n",
        "      plt.plot(X_new, y_predict, style)\n",
        "    gradients = 2/m * X_b.T.dot(X_b.dot(theta) - y)\n",
        "    theta = theta - eta * gradients\n",
        "    if theta_path is not None:\n",
        "      theta_path.append(theta)\n",
        "  plt.xlabel('$x_1$', fontsize=18)\n",
        "  plt.axis([0, 2, 0, 15])\n",
        "  plt.title(r'$\\eta = {}$'.format(eta), fontsize=16)"
      ],
      "metadata": {
        "id": "XayCNw1X-X5J"
      },
      "execution_count": 32,
      "outputs": []
    },
    {
      "cell_type": "code",
      "source": [
        "np.random.seed(42)\n",
        "theta = np.random.randn(2,1) # random initialization\n",
        "\n",
        "plt.figure(figsize=(10,4))\n",
        "plt.subplot(131); plot_gradient_descent(theta, eta=0.02)\n",
        "plt.ylabel('$y$', rotation=0, fontsize=18)\n",
        "plt.subplot(132); plot_gradient_descent(theta, eta=0.1, theta_path=theta_path_bgd)\n",
        "plt.subplot(133); plot_gradient_descent(theta, eta=0.5)\n",
        "\n",
        "save_fig('gradient_descent_plot')"
      ],
      "metadata": {
        "id": "h5Re7jK9-Xpx",
        "outputId": "bc632ebb-14e3-4aa7-c48f-6f99727e9bb9",
        "colab": {
          "base_uri": "https://localhost:8080/",
          "height": 0
        }
      },
      "execution_count": 33,
      "outputs": [
        {
          "output_type": "stream",
          "name": "stdout",
          "text": [
            "Saving figure gradient_descent_plot\n"
          ]
        },
        {
          "output_type": "display_data",
          "data": {
            "image/png": "[encoded data removed]",
            "text/plain": [
              "<Figure size 720x288 with 3 Axes>"
            ]
          },
          "metadata": {
            "needs_background": "light"
          }
        }
      ]
    },
    {
      "cell_type": "markdown",
      "source": [
        "## Stochastic Gradient Descent"
      ],
      "metadata": {
        "id": "HjnbQ7mkzPpe"
      }
    },
    {
      "cell_type": "code",
      "source": [
        "theta_path_sgd = []\n",
        "m = len(X_b)\n",
        "np.random.seed(42)"
      ],
      "metadata": {
        "id": "O6Ar1-yRzNg8"
      },
      "execution_count": 34,
      "outputs": []
    },
    {
      "cell_type": "code",
      "source": [
        "n_epochs = 50\n",
        "t0, t1 = 5, 50 # learning schedule hyperparameters\n",
        "\n",
        "def learning_schedule(t):\n",
        "  return t0 / (t + t1)\n",
        "\n",
        "theta = np.random.randn(2,1) # random initialization\n",
        "\n",
        "for epoch in range(n_epochs):\n",
        "  for i in range(m):\n",
        "    if epoch == 0 and i < 20:\n",
        "      y_predict = X_new_b.dot(theta)\n",
        "      style = 'b-' if i > 0 else 'r--'\n",
        "      plt.plot(X_new, y_predict, style)\n",
        "    random_index = np.random.randint(m)\n",
        "    xi = X_b[random_index:random_index+1]\n",
        "    yi = y[random_index:random_index+1]\n",
        "    gradients = 2 * xi.T.dot(xi.dot(theta) - yi)\n",
        "    eta = learning_schedule(epoch * m + i)\n",
        "    theta = theta - eta * gradients\n",
        "    theta_path_sgd.append(theta)\n",
        "\n",
        "plt.plot(X, y, 'b.')\n",
        "plt.xlabel('$x_1$', fontsize=18)\n",
        "plt.ylabel('$y$', rotation=0, fontsize=18)\n",
        "plt.axis([0, 2, 0, 15])\n",
        "save_fig('sgd_plot')"
      ],
      "metadata": {
        "id": "gOh7ABDGzNQ_",
        "outputId": "ab300b8d-cc68-4699-d9e4-e36366bde4e0",
        "colab": {
          "base_uri": "https://localhost:8080/",
          "height": 0
        }
      },
      "execution_count": 35,
      "outputs": [
        {
          "output_type": "stream",
          "name": "stdout",
          "text": [
            "Saving figure sgd_plot\n"
          ]
        },
        {
          "output_type": "display_data",
          "data": {
            "image/png": "[encoded data removed]",
            "text/plain": [
              "<Figure size 432x288 with 1 Axes>"
            ]
          },
          "metadata": {
            "needs_background": "light"
          }
        }
      ]
    },
    {
      "cell_type": "code",
      "source": [
        "theta"
      ],
      "metadata": {
        "id": "BlRZW_F_zNNK",
        "outputId": "f505ad0f-0b2a-4edf-bf56-f685ac9636b8",
        "colab": {
          "base_uri": "https://localhost:8080/"
        }
      },
      "execution_count": 36,
      "outputs": [
        {
          "output_type": "execute_result",
          "data": {
            "text/plain": [
              "array([[4.21076011],\n",
              "       [2.74856079]])"
            ]
          },
          "metadata": {},
          "execution_count": 36
        }
      ]
    },
    {
      "cell_type": "code",
      "source": [
        "from sklearn.linear_model import SGDRegressor\n",
        "\n",
        "sgd_reg = SGDRegressor(max_iter=1000, tol=1e-3, penalty=None, eta0=0.1, random_state=42)\n",
        "sgd_reg.fit(X, y.ravel())"
      ],
      "metadata": {
        "id": "A9mVkoUpzNJx",
        "outputId": "2c00cd9e-e095-47e1-cb40-1ab55468ac5a",
        "colab": {
          "base_uri": "https://localhost:8080/"
        }
      },
      "execution_count": 37,
      "outputs": [
        {
          "output_type": "execute_result",
          "data": {
            "text/plain": [
              "SGDRegressor(eta0=0.1, penalty=None, random_state=42)"
            ]
          },
          "metadata": {},
          "execution_count": 37
        }
      ]
    },
    {
      "cell_type": "code",
      "source": [
        "sgd_reg.intercept_, sgd_reg.coef_"
      ],
      "metadata": {
        "id": "1siZkbX4zNBd",
        "outputId": "f34cc545-21a7-47d3-ebbf-e96b7070d16b",
        "colab": {
          "base_uri": "https://localhost:8080/"
        }
      },
      "execution_count": 38,
      "outputs": [
        {
          "output_type": "execute_result",
          "data": {
            "text/plain": [
              "(array([4.24365286]), array([2.8250878]))"
            ]
          },
          "metadata": {},
          "execution_count": 38
        }
      ]
    },
    {
      "cell_type": "markdown",
      "source": [
        "## Mini-batch gradient descent"
      ],
      "metadata": {
        "id": "sh_HUjeaWK8V"
      }
    },
    {
      "cell_type": "code",
      "source": [
        "theta_path_mgd = []\n",
        "\n",
        "n_iterations = 50\n",
        "minibatch_size = 20\n",
        "\n",
        "np.random.seed(42)\n",
        "theta = np.random.randn(2, 1) # random initialization\n",
        "\n",
        "t0, t1 = 200, 1000\n",
        "def learning_schedule(t):\n",
        "    return t0 / (t + t1)\n",
        "\n",
        "t = 0\n",
        "for epoch in range(n_iterations):\n",
        "    shuffled_indices = np.random.permutation(m)\n",
        "    X_b_shuffled = X_b[shuffled_indices]\n",
        "    y_shuffled = y[shuffled_indices]\n",
        "    for i in range(0, m, minibatch_size):\n",
        "        t += 1\n",
        "        xi = X_b_shuffled[i:i+minibatch_size]\n",
        "        yi = y_shuffled[i:i+minibatch_size]\n",
        "        gradients = 2/minibatch_size * xi.T.dot(xi.dot(theta) -  yi)\n",
        "        eta = learning_schedule(t)\n",
        "        theta = theta - eta * gradients\n",
        "        theta_path_mgd.append(theta)"
      ],
      "metadata": {
        "id": "sftA24VizLsU"
      },
      "execution_count": 39,
      "outputs": []
    },
    {
      "cell_type": "code",
      "source": [
        "theta"
      ],
      "metadata": {
        "id": "NWtQg1pvzLpF",
        "outputId": "d6d1ddec-3392-474b-9e67-3927e496f440",
        "colab": {
          "base_uri": "https://localhost:8080/"
        }
      },
      "execution_count": 40,
      "outputs": [
        {
          "output_type": "execute_result",
          "data": {
            "text/plain": [
              "array([[4.25214635],\n",
              "       [2.7896408 ]])"
            ]
          },
          "metadata": {},
          "execution_count": 40
        }
      ]
    },
    {
      "cell_type": "code",
      "source": [
        "theta_path_bgd = np.array(theta_path_bgd)\n",
        "theta_path_sgd = np.array(theta_path_sgd)\n",
        "theta_path_mgd = np.array(theta_path_mgd)"
      ],
      "metadata": {
        "id": "JiSFGXztzLlr"
      },
      "execution_count": 41,
      "outputs": []
    },
    {
      "cell_type": "code",
      "source": [
        "plt.figure(figsize=(7,4))\n",
        "plt.plot(theta_path_sgd[:, 0], theta_path_sgd[:, 1], 'r-s', linewidth=1, label='Stochastic')\n",
        "plt.plot(theta_path_mgd[:, 0], theta_path_mgd[:, 1], 'g-+', linewidth=2, label='Mini-batch')\n",
        "plt.plot(theta_path_bgd[:, 0], theta_path_bgd[:, 1], 'b-o', linewidth=3, label='Batch')\n",
        "plt.legend(loc='upper left', fontsize=16)\n",
        "plt.xlabel(r'$\\theta_0$', fontsize=20)\n",
        "plt.ylabel(r'$\\theta_1$', fontsize=20, rotation=0)\n",
        "plt.axis([2.5, 4.5, 2.3, 3.9])\n",
        "save_fig('gradient_descent_paths_plot')"
      ],
      "metadata": {
        "id": "JH58mP5fzLfa",
        "outputId": "fd6093b2-2a6d-4a5b-829d-85de5bfee9d2",
        "colab": {
          "base_uri": "https://localhost:8080/",
          "height": 0
        }
      },
      "execution_count": 42,
      "outputs": [
        {
          "output_type": "stream",
          "name": "stdout",
          "text": [
            "Saving figure gradient_descent_paths_plot\n"
          ]
        },
        {
          "output_type": "display_data",
          "data": {
            "image/png": "[encoded data removed]",
            "text/plain": [
              "<Figure size 504x288 with 1 Axes>"
            ]
          },
          "metadata": {
            "needs_background": "light"
          }
        }
      ]
    },
    {
      "cell_type": "markdown",
      "source": [
        "# Polynomial Regression"
      ],
      "metadata": {
        "id": "DfGLozJRcc8v"
      }
    },
    {
      "cell_type": "code",
      "source": [
        "import numpy as np\n",
        "import numpy.random as rnd\n",
        "\n",
        "rnd.seed(42)"
      ],
      "metadata": {
        "id": "6bne4CSVzLb0"
      },
      "execution_count": 43,
      "outputs": []
    },
    {
      "cell_type": "code",
      "source": [
        "m = 100\n",
        "X = 6 * rnd.rand(m, 1) - 3\n",
        "y = 0.5 * X**2 + X + 2 + rnd.randn(m, 1)"
      ],
      "metadata": {
        "id": "qzkp-OgZzLYV"
      },
      "execution_count": 44,
      "outputs": []
    },
    {
      "cell_type": "code",
      "source": [
        "plt.plot(X, y, 'b.')\n",
        "plt.xlabel('$x_1$', fontsize=18)\n",
        "plt.ylabel('$y$', rotation=0, fontsize=18)\n",
        "plt.axis([-3, 3, 0, 10])\n",
        "save_fig('quadratic_data_plot')"
      ],
      "metadata": {
        "id": "r-DrEFpgzLU6",
        "outputId": "446e3425-f1c3-44ab-d9c8-d86fc0ced17a",
        "colab": {
          "base_uri": "https://localhost:8080/",
          "height": 0
        }
      },
      "execution_count": 45,
      "outputs": [
        {
          "output_type": "stream",
          "name": "stdout",
          "text": [
            "Saving figure quadratic_data_plot\n"
          ]
        },
        {
          "output_type": "display_data",
          "data": {
            "image/png": "[encoded data removed]",
            "text/plain": [
              "<Figure size 432x288 with 1 Axes>"
            ]
          },
          "metadata": {
            "needs_background": "light"
          }
        }
      ]
    },
    {
      "cell_type": "code",
      "source": [
        "from sklearn.preprocessing import PolynomialFeatures\n",
        "poly_features = PolynomialFeatures(degree=2, include_bias=False)\n",
        "X_poly = poly_features.fit_transform(X)\n",
        "X[0]"
      ],
      "metadata": {
        "id": "sZlmJ25GzLRV",
        "outputId": "5f8fbc74-8276-4f17-8144-aabecc4239df",
        "colab": {
          "base_uri": "https://localhost:8080/"
        }
      },
      "execution_count": 46,
      "outputs": [
        {
          "output_type": "execute_result",
          "data": {
            "text/plain": [
              "array([-0.75275929])"
            ]
          },
          "metadata": {},
          "execution_count": 46
        }
      ]
    },
    {
      "cell_type": "code",
      "source": [
        "X_poly[0]"
      ],
      "metadata": {
        "id": "WhFUtrwgzLOB",
        "outputId": "e257407a-da49-4d3b-8fa7-880da4bbc35c",
        "colab": {
          "base_uri": "https://localhost:8080/"
        }
      },
      "execution_count": 47,
      "outputs": [
        {
          "output_type": "execute_result",
          "data": {
            "text/plain": [
              "array([-0.75275929,  0.56664654])"
            ]
          },
          "metadata": {},
          "execution_count": 47
        }
      ]
    },
    {
      "cell_type": "code",
      "source": [
        "lin_reg = LinearRegression()\n",
        "lin_reg.fit(X_poly, y)\n",
        "lin_reg.intercept_, lin_reg.coef_"
      ],
      "metadata": {
        "id": "QC2Y4CZzzLKh",
        "outputId": "37c7ac8c-f4c6-4eb9-e1f7-0406d035aa89",
        "colab": {
          "base_uri": "https://localhost:8080/"
        }
      },
      "execution_count": 48,
      "outputs": [
        {
          "output_type": "execute_result",
          "data": {
            "text/plain": [
              "(array([1.78134581]), array([[0.93366893, 0.56456263]]))"
            ]
          },
          "metadata": {},
          "execution_count": 48
        }
      ]
    },
    {
      "cell_type": "code",
      "source": [
        "X_new = np.linspace(-3, 3, 100).reshape(100, 1)\n",
        "X_new_poly = poly_features.transform(X_new)\n",
        "y_new = lin_reg.predict(X_new_poly)\n",
        "plt.plot(X, y, 'b.')\n",
        "plt.plot(X_new, y_new, 'r-', linewidth=2, label='Predictions')\n",
        "plt.xlabel('$x_1$', fontsize=18)\n",
        "plt.ylabel('$y$', rotation=0, fontsize=18)\n",
        "plt.legend(loc='upper left', fontsize=14)\n",
        "plt.axis([-3, 3, 0, 10])\n",
        "save_fig('quadratic_predictions_plot')"
      ],
      "metadata": {
        "id": "AaAH9KU1zLHU",
        "outputId": "1da5a445-4cb2-49ab-ce5f-6de98406c551",
        "colab": {
          "base_uri": "https://localhost:8080/",
          "height": 0
        }
      },
      "execution_count": 49,
      "outputs": [
        {
          "output_type": "stream",
          "name": "stdout",
          "text": [
            "Saving figure quadratic_predictions_plot\n"
          ]
        },
        {
          "output_type": "display_data",
          "data": {
            "image/png": "[encoded data removed]",
            "text/plain": [
              "<Figure size 432x288 with 1 Axes>"
            ]
          },
          "metadata": {
            "needs_background": "light"
          }
        }
      ]
    },
    {
      "cell_type": "code",
      "source": [
        "from numpy.lib import stride_tricks\n",
        "from sklearn.preprocessing import StandardScaler\n",
        "from sklearn.pipeline import Pipeline\n",
        "\n",
        "for style, width, degree in (('g-', 1, 300), ('b--', 2, 2), ('r-+', 2, 1)):\n",
        "    polybig_features = PolynomialFeatures(degree=degree, include_bias=False)\n",
        "    std_scaler = StandardScaler()\n",
        "    lin_reg = LinearRegression()\n",
        "    polynomial_regression = Pipeline([\n",
        "                                      ('poly_features', polybig_features),\n",
        "                                      ('std_scaler', std_scaler),\n",
        "                                      ('lin_reg', lin_reg),\n",
        "    ])\n",
        "    polynomial_regression.fit(X, y)\n",
        "    y_newbig = polynomial_regression.predict(X_new)\n",
        "    plt.plot(X_new, y_newbig, style, label=str(degree), linewidth=width)\n",
        "\n",
        "plt.plot(X, y, 'b.', linewidth=3)\n",
        "plt.legend(loc='upper left')\n",
        "plt.xlabel('$x_1$', fontsize=18)\n",
        "plt.ylabel('$y$', rotation=0, fontsize=18)\n",
        "plt.axis([-3, 3, 0, 10])\n",
        "save_fig('high_degree_polynomials_plot')"
      ],
      "metadata": {
        "id": "FOZ-UaGpzLD_",
        "outputId": "11c6f363-484d-4271-dd3a-a5f22f986a1e",
        "colab": {
          "base_uri": "https://localhost:8080/",
          "height": 0
        }
      },
      "execution_count": 50,
      "outputs": [
        {
          "output_type": "stream",
          "name": "stdout",
          "text": [
            "Saving figure high_degree_polynomials_plot\n"
          ]
        },
        {
          "output_type": "display_data",
          "data": {
            "image/png": "[encoded data removed]",
            "text/plain": [
              "<Figure size 432x288 with 1 Axes>"
            ]
          },
          "metadata": {
            "needs_background": "light"
          }
        }
      ]
    },
    {
      "cell_type": "markdown",
      "source": [
        "# Learning Curves"
      ],
      "metadata": {
        "id": "tTD0Xm85oEBW"
      }
    },
    {
      "cell_type": "code",
      "source": [
        "from sklearn.metrics import mean_squared_error\n",
        "from sklearn.model_selection import train_test_split\n",
        "\n",
        "def plot_learning_curves(model, X, y):\n",
        "    X_train, X_val, y_train, y_val = train_test_split(X, y, test_size=0.2, random_state=10)\n",
        "    train_errors, val_errors = [], []\n",
        "    for m in range(1, len(X_train) + 1):\n",
        "        model.fit(X_train[:m], y_train[:m])\n",
        "        y_train_predict = model.predict(X_train[:m])\n",
        "        y_val_predict = model.predict(X_val)\n",
        "        train_errors.append(mean_squared_error (y_train[:m], y_train_predict))\n",
        "        val_errors.append(mean_squared_error(y_val, y_val_predict))\n",
        "\n",
        "    plt.plot(np.sqrt(train_errors), 'r-+', linewidth=2, label='train')\n",
        "    plt.plot(np.sqrt(val_errors), 'b-', linewidth=3, label='val')\n",
        "    plt.legend(loc='upper right', fontsize=14)\n",
        "    plt.xlabel('Training set size', fontsize=14)\n",
        "    plt.ylabel('RMSE', fontsize=14)"
      ],
      "metadata": {
        "id": "_Ahq1tZjoCsG"
      },
      "execution_count": 51,
      "outputs": []
    },
    {
      "cell_type": "code",
      "source": [
        "lin_reg = LinearRegression()\n",
        "plot_learning_curves(lin_reg, X, y)\n",
        "plt.axis([0, 80, 0, 3])\n",
        "save_fig('underfitting_learning_cuvrves_plot')"
      ],
      "metadata": {
        "id": "toVYUwrHoCpv",
        "outputId": "b412742d-f433-409c-c164-cea637640071",
        "colab": {
          "base_uri": "https://localhost:8080/",
          "height": 0
        }
      },
      "execution_count": 52,
      "outputs": [
        {
          "output_type": "stream",
          "name": "stdout",
          "text": [
            "Saving figure underfitting_learning_cuvrves_plot\n"
          ]
        },
        {
          "output_type": "display_data",
          "data": {
            "image/png": "[encoded data removed]",
            "text/plain": [
              "<Figure size 432x288 with 1 Axes>"
            ]
          },
          "metadata": {
            "needs_background": "light"
          }
        }
      ]
    },
    {
      "cell_type": "code",
      "source": [
        "from sklearn.pipeline import Pipeline\n",
        "\n",
        "polynomial_regression = Pipeline([\n",
        "        ('poly_features', PolynomialFeatures(degree=10, include_bias=False)),\n",
        "        ('lin_reg', LinearRegression()),                              \n",
        "    ])\n",
        "\n",
        "plot_learning_curves(polynomial_regression, X, y)\n",
        "plt.axis([0, 80, 0, 3])\n",
        "save_fig('learning_curves_plot')"
      ],
      "metadata": {
        "id": "G3kqcFw2oCnH",
        "outputId": "4e91e6ef-5555-48ce-94e7-e28406c378fe",
        "colab": {
          "base_uri": "https://localhost:8080/",
          "height": 0
        }
      },
      "execution_count": 53,
      "outputs": [
        {
          "output_type": "stream",
          "name": "stdout",
          "text": [
            "Saving figure learning_curves_plot\n"
          ]
        },
        {
          "output_type": "display_data",
          "data": {
            "image/png": "[encoded data removed]",
            "text/plain": [
              "<Figure size 432x288 with 1 Axes>"
            ]
          },
          "metadata": {
            "needs_background": "light"
          }
        }
      ]
    },
    {
      "cell_type": "markdown",
      "source": [
        "# Regularized Linear Models"
      ],
      "metadata": {
        "id": "vkR1C38xftw8"
      }
    },
    {
      "cell_type": "markdown",
      "source": [
        "## Ridge Regression"
      ],
      "metadata": {
        "id": "3FPldJ_efwmf"
      }
    },
    {
      "cell_type": "code",
      "source": [
        "rnd.seed(42)\n",
        "m = 20\n",
        "X = 3 * rnd.rand(m, 1)\n",
        "y = 1 + 0.5 * X + rnd.randn(m, 1) / 1.5\n",
        "X_new = np.linspace(0, 3, 100).reshape(100, 1)"
      ],
      "metadata": {
        "id": "X_EBXT5foCk2"
      },
      "execution_count": 54,
      "outputs": []
    },
    {
      "cell_type": "code",
      "source": [
        "from sklearn.linear_model import Ridge\n",
        "ridge_reg = Ridge(alpha=1, solver='cholesky', random_state=42)\n",
        "ridge_reg.fit(X, y)\n",
        "ridge_reg.predict([[1.5]])"
      ],
      "metadata": {
        "id": "BbSEjrU3oCic",
        "colab": {
          "base_uri": "https://localhost:8080/"
        },
        "outputId": "e85ca3d8-0fd3-485d-83ed-7c4d0dcb8036"
      },
      "execution_count": 55,
      "outputs": [
        {
          "output_type": "execute_result",
          "data": {
            "text/plain": [
              "array([[1.55071465]])"
            ]
          },
          "metadata": {},
          "execution_count": 55
        }
      ]
    },
    {
      "cell_type": "code",
      "source": [
        "ridge_reg = Ridge(alpha=1, solver='sag', random_state=42)\n",
        "ridge_reg.fit(X, y)\n",
        "ridge_reg.predict([[1.5]])"
      ],
      "metadata": {
        "id": "ki7fk4hvoCgH",
        "colab": {
          "base_uri": "https://localhost:8080/"
        },
        "outputId": "ba05d9e8-b892-418b-93a8-c71453c35309"
      },
      "execution_count": 56,
      "outputs": [
        {
          "output_type": "execute_result",
          "data": {
            "text/plain": [
              "array([[1.5507201]])"
            ]
          },
          "metadata": {},
          "execution_count": 56
        }
      ]
    },
    {
      "cell_type": "code",
      "source": [
        "from sklearn.linear_model import Ridge\n",
        "\n",
        "def plot_model(model_class, polynomial, alphas, **model_kargs):\n",
        "    for alpha, style in zip(alphas, ('b-', 'g--', 'r:')):\n",
        "        model = model_class(alpha, **model_kargs) if alpha > 0 else LinearRegression()\n",
        "        if polynomial:\n",
        "            model = Pipeline([\n",
        "                ('poly_features', PolynomialFeatures(degree=10, include_bias=False)),\n",
        "                ('std_scaler', StandardScaler()),\n",
        "                ('regul_reg', model),\n",
        "            ])\n",
        "        model.fit(X, y)\n",
        "        y_new_regul = model.predict(X_new)\n",
        "        lw = 2 if alpha > 0 else 1\n",
        "        plt.plot(X_new, y_new_regul, style, linewidth=lw, label=r'$\\alpha = {}$'.format(alpha))\n",
        "    plt.plot(X, y, 'b.', linewidth=3)\n",
        "    plt.legend(loc='upper left', fontsize=15)\n",
        "    plt.xlabel('$x_1$', fontsize=18)\n",
        "    plt.axis([0, 3, 0, 4])\n",
        "\n",
        "plt.figure(figsize=(8,4))\n",
        "plt.subplot(121)\n",
        "plot_model(Ridge, polynomial=False, alphas=(0, 10, 100), random_state=42)\n",
        "plt.ylabel('$y$', rotation=0, fontsize=18)\n",
        "plt.subplot(122)\n",
        "plot_model(Ridge, polynomial=True, alphas=(0, 10**-5, 1), random_state=42)\n",
        "\n",
        "save_fig('ridge_regression_plot')"
      ],
      "metadata": {
        "id": "ULd7uEmGoCdP",
        "colab": {
          "base_uri": "https://localhost:8080/",
          "height": 0
        },
        "outputId": "1f7b5e6a-d715-4692-81ce-812224aed126"
      },
      "execution_count": 57,
      "outputs": [
        {
          "output_type": "stream",
          "name": "stdout",
          "text": [
            "Saving figure ridge_regression_plot\n"
          ]
        },
        {
          "output_type": "display_data",
          "data": {
            "image/png": "[encoded data removed]",
            "text/plain": [
              "<Figure size 576x288 with 2 Axes>"
            ]
          },
          "metadata": {
            "needs_background": "light"
          }
        }
      ]
    },
    {
      "cell_type": "code",
      "source": [
        "sgd_reg = SGDRegressor(penalty='l2', max_iter=1000, tol=1e-3, random_state=42)\n",
        "sgd_reg.fit(X, y.ravel())\n",
        "sgd_reg.predict([[1.5]])"
      ],
      "metadata": {
        "id": "cdC7toeAoCa4",
        "colab": {
          "base_uri": "https://localhost:8080/"
        },
        "outputId": "90429574-84c9-45d9-b2ba-a0a6f92f0e99"
      },
      "execution_count": 58,
      "outputs": [
        {
          "output_type": "execute_result",
          "data": {
            "text/plain": [
              "array([1.47012588])"
            ]
          },
          "metadata": {},
          "execution_count": 58
        }
      ]
    },
    {
      "cell_type": "markdown",
      "source": [
        "## Lasso Regression\n",
        "\n",
        "#### Least Absolute Shrinkage and Selection Operator Regression"
      ],
      "metadata": {
        "id": "a4q1yw12VdmI"
      }
    },
    {
      "cell_type": "code",
      "source": [
        "from sklearn.linear_model import Lasso\n",
        "\n",
        "plt.figure(figsize=(8,4))\n",
        "plt.subplot(121)\n",
        "plot_model(Lasso, polynomial=False, alphas=(0, 0.1, 1), random_state=42)\n",
        "plt.ylabel('$y$', rotation=0, fontsize=18)\n",
        "plt.subplot(122)\n",
        "plot_model(Lasso, polynomial=True, alphas=(0, 10**-7, 1), random_state=42)\n",
        "\n",
        "save_fig('lasso_regression_plot')"
      ],
      "metadata": {
        "id": "-9nP5R5RoCY2",
        "colab": {
          "base_uri": "https://localhost:8080/",
          "height": 0
        },
        "outputId": "336fd57c-43f9-45d4-94ee-aaa2e7fa85a3"
      },
      "execution_count": 59,
      "outputs": [
        {
          "output_type": "stream",
          "name": "stderr",
          "text": [
            "/usr/local/lib/python3.7/dist-packages/sklearn/linear_model/_coordinate_descent.py:648: ConvergenceWarning: Objective did not converge. You might want to increase the number of iterations, check the scale of the features or consider increasing regularisation. Duality gap: 2.803e+00, tolerance: 9.295e-04\n",
            "  coef_, l1_reg, l2_reg, X, y, max_iter, tol, rng, random, positive\n"
          ]
        },
        {
          "output_type": "stream",
          "name": "stdout",
          "text": [
            "Saving figure lasso_regression_plot\n"
          ]
        },
        {
          "output_type": "display_data",
          "data": {
            "image/png": "[encoded data removed]",
            "text/plain": [
              "<Figure size 576x288 with 2 Axes>"
            ]
          },
          "metadata": {
            "needs_background": "light"
          }
        }
      ]
    },
    {
      "cell_type": "code",
      "source": [
        "from sklearn.linear_model import Lasso\n",
        "lasso_reg = Lasso(alpha=0.1)\n",
        "lasso_reg.fit(X, y)\n",
        "lasso_reg.predict([[1.5]])"
      ],
      "metadata": {
        "id": "h5kFZ6xloCWd",
        "colab": {
          "base_uri": "https://localhost:8080/"
        },
        "outputId": "50d225e1-c886-4cf5-98ef-10c05144c386"
      },
      "execution_count": 60,
      "outputs": [
        {
          "output_type": "execute_result",
          "data": {
            "text/plain": [
              "array([1.53788174])"
            ]
          },
          "metadata": {},
          "execution_count": 60
        }
      ]
    },
    {
      "cell_type": "markdown",
      "source": [
        "## Elastic Net"
      ],
      "metadata": {
        "id": "R-vxS8YKWy4e"
      }
    },
    {
      "cell_type": "code",
      "source": [
        "from sklearn.linear_model import ElasticNet\n",
        "elastic_net = ElasticNet(alpha=0.1, l1_ratio=0.5, random_state=42)\n",
        "elastic_net.fit(X, y)\n",
        "elastic_net.predict([[1.5]])"
      ],
      "metadata": {
        "id": "Ev0HXpKooCUH",
        "colab": {
          "base_uri": "https://localhost:8080/"
        },
        "outputId": "6ba60ee0-4df4-4de4-e738-8902256f88a6"
      },
      "execution_count": 61,
      "outputs": [
        {
          "output_type": "execute_result",
          "data": {
            "text/plain": [
              "array([1.54333232])"
            ]
          },
          "metadata": {},
          "execution_count": 61
        }
      ]
    },
    {
      "cell_type": "markdown",
      "source": [
        "## Early Stopping"
      ],
      "metadata": {
        "id": "wb5NeuxgXsDJ"
      }
    },
    {
      "cell_type": "code",
      "source": [
        "rnd.seed(42)\n",
        "m = 100\n",
        "X = 6 * rnd.rand(m, 1) - 3\n",
        "y = 2 + X + 0.5 * X**2 + rnd.randn(m, 1)\n",
        "\n",
        "X_train, X_val, y_train, y_val = train_test_split(X[:50], y[:50].ravel(), test_size=0.5, random_state=10)"
      ],
      "metadata": {
        "id": "ptJh_wEJoCQ-"
      },
      "execution_count": 62,
      "outputs": []
    },
    {
      "cell_type": "code",
      "source": [
        "from copy import deepcopy\n",
        "\n",
        "poly_scaler = Pipeline([\n",
        "        ('poly_features', PolynomialFeatures(degree=90, include_bias=False)),\n",
        "        ('std_scaler', StandardScaler())\n",
        "])\n",
        "\n",
        "X_train_poly_scaled = poly_scaler.fit_transform(X_train)\n",
        "X_val_poly_scaled = poly_scaler.transform(X_val)\n",
        "\n",
        "sgd_reg = SGDRegressor(max_iter=1, tol=-np.infty, warm_start=True, penalty=None, learning_rate='constant',\n",
        "                       eta0=0.0005, random_state=42)\n",
        "\n",
        "minimum_val_error = float('inf')\n",
        "best_epoch = None\n",
        "best_model = None\n",
        "for epoch in range(1000):\n",
        "    sgd_reg.fit(X_train_poly_scaled, y_train) # continues where it left off\n",
        "    y_val_predict = sgd_reg.predict(X_val_poly_scaled)\n",
        "    val_error = mean_squared_error(y_val, y_val_predict)\n",
        "    if val_error < minimum_val_error:\n",
        "        minimum_val_error = val_error\n",
        "        best_epoch = epoch\n",
        "        best_model = deepcopy(sgd_reg)"
      ],
      "metadata": {
        "id": "PTZaBjkgoCOH"
      },
      "execution_count": 63,
      "outputs": []
    },
    {
      "cell_type": "code",
      "source": [
        "sgd_reg = SGDRegressor(max_iter=1, tol=-np.infty, warm_start=True, penalty=None, learning_rate='constant',\n",
        "                       eta0=0.0005, random_state=42)\n",
        "\n",
        "n_epochs = 500\n",
        "train_errors, val_errors = [], []\n",
        "for epoch in range(n_epochs):\n",
        "    sgd_reg.fit(X_train_poly_scaled, y_train)\n",
        "    y_train_predict = sgd_reg.predict(X_train_poly_scaled)\n",
        "    y_val_predict = sgd_reg.predict(X_val_poly_scaled)\n",
        "    train_errors.append(mean_squared_error(y_train, y_train_predict))\n",
        "    val_errors.append(mean_squared_error(y_val, y_val_predict))\n",
        "\n",
        "best_epoch = np.argmin(val_errors)\n",
        "best_val_rmse = np.sqrt(val_errors[best_epoch])\n",
        "\n",
        "plt.annotate('Best model',\n",
        "             xy=(best_epoch, best_val_rmse),\n",
        "             xytext=(best_epoch, best_val_rmse + 1),\n",
        "             ha='center',\n",
        "             arrowprops=dict(facecolor='black', shrink=0.05),\n",
        "             fontsize=16,\n",
        "             )\n",
        "\n",
        "best_val_rmse -= 0.03 # just to make the graph look better\n",
        "plt.plot([0, n_epochs], [best_val_rmse, best_val_rmse], 'k:', linewidth=2)\n",
        "plt.plot(np.sqrt(val_errors), 'b-', linewidth=3, label='Validation Set')\n",
        "plt.plot(np.sqrt(train_errors), 'r--', linewidth=2, label='Training Set')\n",
        "plt.legend(loc='upper right', fontsize=14)\n",
        "plt.xlabel('Epoch', fontsize=14)\n",
        "plt.ylabel('RMSE', fontsize=14)\n",
        "save_fig('early_stopping_plot')"
      ],
      "metadata": {
        "id": "DmjbYxLhoCLQ",
        "colab": {
          "base_uri": "https://localhost:8080/",
          "height": 314
        },
        "outputId": "31ffc514-8638-4fa8-d1aa-268feb5ef766"
      },
      "execution_count": 66,
      "outputs": [
        {
          "output_type": "stream",
          "name": "stdout",
          "text": [
            "Saving figure early_stopping_plot\n"
          ]
        },
        {
          "output_type": "display_data",
          "data": {
            "image/png": "[encoded data removed]",
            "text/plain": [
              "<Figure size 432x288 with 1 Axes>"
            ]
          },
          "metadata": {
            "needs_background": "light"
          }
        }
      ]
    },
    {
      "cell_type": "code",
      "source": [
        ""
      ],
      "metadata": {
        "id": "omw76__4zLAr"
      },
      "execution_count": null,
      "outputs": []
    },
    {
      "cell_type": "code",
      "source": [
        ""
      ],
      "metadata": {
        "id": "5JF38t1czK9Q"
      },
      "execution_count": null,
      "outputs": []
    },
    {
      "cell_type": "code",
      "source": [
        ""
      ],
      "metadata": {
        "id": "bkkz1pBEzK5n"
      },
      "execution_count": null,
      "outputs": []
    },
    {
      "cell_type": "code",
      "source": [
        ""
      ],
      "metadata": {
        "id": "gNwsZjRdzKuj"
      },
      "execution_count": null,
      "outputs": []
    },
    {
      "cell_type": "markdown",
      "source": [
        "#Save to Github"
      ],
      "metadata": {
        "id": "F3JYNy2sgegE"
      }
    },
    {
      "cell_type": "code",
      "source": [
        "!git status"
      ],
      "metadata": {
        "id": "ClB2J4oGVqZ1",
        "outputId": "bb1be030-02a8-4d6f-ee12-4ad24ae80417",
        "colab": {
          "base_uri": "https://localhost:8080/"
        }
      },
      "execution_count": 67,
      "outputs": [
        {
          "output_type": "stream",
          "name": "stdout",
          "text": [
            "On branch main\n",
            "Your branch is up to date with 'origin/main'.\n",
            "\n",
            "Changes not staged for commit:\n",
            "  (use \"git add <file>...\" to update what will be committed)\n",
            "  (use \"git checkout -- <file>...\" to discard changes in working directory)\n",
            "\n",
            "\t\u001b[31mmodified:   images/training_linear_models/generated_data_plot.png\u001b[m\n",
            "\t\u001b[31mmodified:   images/training_linear_models/gradient_descent_paths_plot.png\u001b[m\n",
            "\t\u001b[31mmodified:   images/training_linear_models/gradient_descent_plot.png\u001b[m\n",
            "\t\u001b[31mmodified:   images/training_linear_models/linear_model_predictions_plot.png\u001b[m\n",
            "\t\u001b[31mmodified:   images/training_linear_models/sgd_plot.png\u001b[m\n",
            "\n",
            "Untracked files:\n",
            "  (use \"git add <file>...\" to include in what will be committed)\n",
            "\n",
            "\t\u001b[31mimages/training_linear_models/early_stopping_plot.png\u001b[m\n",
            "\n",
            "no changes added to commit (use \"git add\" and/or \"git commit -a\")\n"
          ]
        }
      ]
    },
    {
      "cell_type": "code",
      "source": [
        "!git add ."
      ],
      "metadata": {
        "id": "hKG40mmeVqy0"
      },
      "execution_count": 68,
      "outputs": []
    },
    {
      "cell_type": "code",
      "source": [
        "today = datetime.today().strftime('%Y-%m-%d-%H:%M:%S')\n",
        "!git commit -m 'commit time: $today'"
      ],
      "metadata": {
        "id": "SazDdk5MVwSz",
        "outputId": "3b58eb6a-a53a-4a86-ff48-e05e11075dfd",
        "colab": {
          "base_uri": "https://localhost:8080/"
        }
      },
      "execution_count": 69,
      "outputs": [
        {
          "output_type": "stream",
          "name": "stdout",
          "text": [
            "[main 14a3429] commit time: 2021-12-31-19:41:01\n",
            " 6 files changed, 0 insertions(+), 0 deletions(-)\n",
            " create mode 100644 images/training_linear_models/early_stopping_plot.png\n",
            " rewrite images/training_linear_models/generated_data_plot.png (98%)\n",
            " rewrite images/training_linear_models/gradient_descent_paths_plot.png (87%)\n",
            " rewrite images/training_linear_models/gradient_descent_plot.png (96%)\n",
            " rewrite images/training_linear_models/linear_model_predictions_plot.png (98%)\n",
            " rewrite images/training_linear_models/sgd_plot.png (98%)\n"
          ]
        }
      ]
    },
    {
      "cell_type": "code",
      "source": [
        "!git push"
      ],
      "metadata": {
        "id": "vU93QYsKV-NK",
        "outputId": "64b7a6e4-80c5-42a4-d769-77e54ca5d504",
        "colab": {
          "base_uri": "https://localhost:8080/"
        }
      },
      "execution_count": 70,
      "outputs": [
        {
          "output_type": "stream",
          "name": "stdout",
          "text": [
            "Warning: Permanently added the RSA host key for IP address '140.82.121.3' to the list of known hosts.\n",
            "Counting objects: 10, done.\n",
            "Delta compression using up to 2 threads.\n",
            "Compressing objects: 100% (9/9), done.\n",
            "Writing objects: 100% (10/10), 584.77 KiB | 9.75 MiB/s, done.\n",
            "Total 10 (delta 2), reused 5 (delta 0)\n",
            "remote: Resolving deltas: 100% (2/2), completed with 2 local objects.\u001b[K\n",
            "To github.com:jrichwiltshire/hands-on-data-science.git\n",
            "   d6a0356..14a3429  main -> main\n"
          ]
        }
      ]
    },
    {
      "cell_type": "code",
      "source": [
        ""
      ],
      "metadata": {
        "id": "zUYVWeUfV-IQ"
      },
      "execution_count": 65,
      "outputs": []
    }
  ]
}